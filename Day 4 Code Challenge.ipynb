{
 "cells": [
  {
   "cell_type": "code",
   "execution_count": 1,
   "id": "81e82adc-879f-47db-906f-a6c33c9ead4a",
   "metadata": {},
   "outputs": [],
   "source": [
    "import random"
   ]
  },
  {
   "cell_type": "code",
   "execution_count": 2,
   "id": "f5136354-5c73-4c41-8b17-793e1a4208e0",
   "metadata": {},
   "outputs": [],
   "source": [
    "rock = '''\n",
    "    _______\n",
    "---'   ____)\n",
    "      (_____)\n",
    "      (_____)\n",
    "      (____)\n",
    "---.__(___)\n",
    "'''\n",
    "\n",
    "paper = '''\n",
    "    _______\n",
    "---'   ____)____\n",
    "          ______)\n",
    "          _______)\n",
    "         _______)\n",
    "---.__________)\n",
    "'''\n",
    "\n",
    "scissors = '''\n",
    "    _______\n",
    "---'   ____)____\n",
    "          ______)\n",
    "       __________)\n",
    "      (____)\n",
    "---.__(___)\n",
    "'''\n"
   ]
  },
  {
   "cell_type": "code",
   "execution_count": 3,
   "id": "8070a5b7-0685-4937-badc-11fdd4445412",
   "metadata": {},
   "outputs": [
    {
     "name": "stdin",
     "output_type": "stream",
     "text": [
      "What do you choose? Type 0 for Rock, 1 for Paper or 2 for Scissors\n",
      "0/1/2: 2\n"
     ]
    }
   ],
   "source": [
    "choice = (input(\"What do you choose? Type 0 for Rock, 1 for Paper or 2 for Scissors\\n0/1/2:\"))\n",
    "computers_choice = random.randint(0,2)"
   ]
  },
  {
   "cell_type": "code",
   "execution_count": 9,
   "id": "c1a1f08d-b0c3-4144-a69a-2d74c024694d",
   "metadata": {},
   "outputs": [
    {
     "name": "stdin",
     "output_type": "stream",
     "text": [
      "Enter a number between 0 and 2:  2\n"
     ]
    },
    {
     "name": "stdout",
     "output_type": "stream",
     "text": [
      "You've entered a valid number: 2\n"
     ]
    }
   ],
   "source": [
    "choice = input(\"Enter a number between 0 and 2: \")\n",
    "\n",
    "if choice.isdigit():\n",
    "    choice = int(choice)\n",
    "    if choice > 2:\n",
    "        print(\"You've entered an invalid number, try again and choose a number between 0-2.\")\n",
    "    else:\n",
    "        print(f\"You've entered a valid number: {choice}\")\n",
    "else:\n",
    "    print(\"Invalid input. Please enter a numeric value.\")\n"
   ]
  },
  {
   "cell_type": "code",
   "execution_count": 12,
   "id": "0c27be0e-303f-4999-b9db-c9af6f5059d1",
   "metadata": {
    "scrolled": true
   },
   "outputs": [
    {
     "name": "stdin",
     "output_type": "stream",
     "text": [
      "Enter a number (0 for Rock, 1 for Paper, 2 for Scissors):  1\n"
     ]
    },
    {
     "name": "stdout",
     "output_type": "stream",
     "text": [
      "You chose: Paper \n",
      "    _______\n",
      "---'   ____)____\n",
      "          ______)\n",
      "          _______)\n",
      "         _______)\n",
      "---.__________)\n",
      "\n"
     ]
    }
   ],
   "source": [
    "choice = input(\"Enter a number (0 for Rock, 1 for Paper, 2 for Scissors): \")\n",
    "\n",
    "if choice.isdigit():\n",
    "    choice = int(choice)\n",
    "    \n",
    "    if choice == 0:\n",
    "        print(f\"You chose: Rock {rock}\")\n",
    "    elif choice == 1:\n",
    "        print(f\"You chose: Paper {paper}\")\n",
    "    elif choice == 2:\n",
    "        print(f\"You chose: Scissors {scissors}\")\n",
    "    else:\n",
    "        print(\"You've entered an invalid number, try again and choose a number between 0-2.\")\n",
    "else:\n",
    "    print(\"Invalid input. Please enter a numeric value.\")\n"
   ]
  },
  {
   "cell_type": "code",
   "execution_count": 13,
   "id": "3711fc40-2ec6-44a4-8809-3d507aad2776",
   "metadata": {},
   "outputs": [
    {
     "name": "stdout",
     "output_type": "stream",
     "text": [
      "The computer chose: Rock \n",
      "    _______\n",
      "---'   ____)\n",
      "      (_____)\n",
      "      (_____)\n",
      "      (____)\n",
      "---.__(___)\n",
      "\n",
      "You win!\n"
     ]
    }
   ],
   "source": [
    "if computers_choice == 0:\n",
    "    print(f\"The computer chose: Rock {rock}\")\n",
    "    if choice == 2:\n",
    "        print(\"You lose, Rock wins against scissors.\")\n",
    "    elif choice == 0:\n",
    "        print(\"It's a draw!\")\n",
    "    else:\n",
    "        print(\"You win!\")\n",
    "\n",
    "elif computers_choice == 1:\n",
    " print(f\"The computer chose: Paper {paper}\")\n",
    " if choice == 0:\n",
    "    print(\"You lose, Paper wins against rock.\")\n",
    "elif choice == 0:\n",
    "    print(\"It's a draw!\")\n",
    "else:\n",
    "    print(\"You win!\")\n",
    "\n",
    "elif computers_choice == 2:\n",
    " print(f\"The computer chose: Scissors {scissors}\")\n",
    " if choice == 1:\n",
    "     print(\"You lose, Scissors win against"
   ]
  },
  {
   "cell_type": "code",
   "execution_count": 14,
   "id": "aad6ca17-d204-4e37-948e-3b5adff23f9f",
   "metadata": {},
   "outputs": [
    {
     "ename": "SyntaxError",
     "evalue": "invalid syntax (284670290.py, line 1)",
     "output_type": "error",
     "traceback": [
      "\u001b[1;36m  Cell \u001b[1;32mIn[14], line 1\u001b[1;36m\u001b[0m\n\u001b[1;33m    elif computers_choice == 1:\u001b[0m\n\u001b[1;37m    ^\u001b[0m\n\u001b[1;31mSyntaxError\u001b[0m\u001b[1;31m:\u001b[0m invalid syntax\n"
     ]
    }
   ],
   "source": [
    "elif computers_choice == 1:\n",
    " print(f\"The computer chose: Paper {paper}\")\n",
    "if choice == 0:\n",
    "    print(\"You lose, Paper wins against rock.\")\n",
    "elif choice == 0:\n",
    "    print(\"It's a draw!\")\n",
    "else:\n",
    "    print(\"You win!\")\n",
    "    "
   ]
  },
  {
   "cell_type": "code",
   "execution_count": null,
   "id": "79f1c740-7016-427b-ab49-fc3909777469",
   "metadata": {},
   "outputs": [],
   "source": []
  }
 ],
 "metadata": {
  "kernelspec": {
   "display_name": "Python 3 (ipykernel)",
   "language": "python",
   "name": "python3"
  },
  "language_info": {
   "codemirror_mode": {
    "name": "ipython",
    "version": 3
   },
   "file_extension": ".py",
   "mimetype": "text/x-python",
   "name": "python",
   "nbconvert_exporter": "python",
   "pygments_lexer": "ipython3",
   "version": "3.12.4"
  }
 },
 "nbformat": 4,
 "nbformat_minor": 5
}
